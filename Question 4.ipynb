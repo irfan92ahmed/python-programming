radius=int (input ("Enter the radius of the circle:"))
area=(22/7)*float(radius**2)
print("Area of Circle is : " ,area)