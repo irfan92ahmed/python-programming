First_Name=input("Enter your first name:")
Last_Name=input("Enter your last name:")
print(Last_Name , First_Name)