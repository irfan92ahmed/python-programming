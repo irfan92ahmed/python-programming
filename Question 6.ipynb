a=float(input("1st number = "))
b=float(input("2nd number="))
print(a+b)