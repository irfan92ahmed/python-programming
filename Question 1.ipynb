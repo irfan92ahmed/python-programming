a1= "Twinkle, twinkle, little, star,"
a2= "How I wonder what you are!"
a3= "Up above the world so high,"
a4= "Like a diamond in the sky."
a5= "Twinkle, twinkle, little, star,"
a6= "How I wonder what you are."
print (a1 + "\n \t" + a2 + "\n \t  \t" + a3 + "\n \t  \t" +  a4 + "\n"  +a5 + "\n  \t" + a6) 